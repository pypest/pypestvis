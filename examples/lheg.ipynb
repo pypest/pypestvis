{
 "cells": [
  {
   "cell_type": "code",
   "id": "6570d5e8-4920-4b65-b7d7-140db76065e2",
   "metadata": {},
   "source": [
    "from pathlib import Path\n",
    "import pyemu\n",
    "import pandas as pd\n",
    "import pypestvis as ppv"
   ],
   "outputs": [],
   "execution_count": null
  },
  {
   "cell_type": "markdown",
   "id": "2f4ef6d2b3a09bbf",
   "metadata": {},
   "source": [
    "## Load control file and clean up observation metadata\n",
    "* fill in k,i,j from idx0 where needed\n",
    "* fixup kper, kstp\n",
    "* define `slider` column"
   ]
  },
  {
   "cell_type": "code",
   "id": "b32aa04d-c100-4f99-8bf6-d016fb9e1511",
   "metadata": {},
   "source": [
    "rd = \".\" # \"batch_20250801\"\n",
    "md = Path(rd, \"lheg_ies\")\n",
    "# load history matching pst\n",
    "pst = pyemu.Pst(Path(md, 'lhgzsi.pst').as_posix())\n",
    "obs = pst.observation_data\n",
    "scenmap = pd.read_csv(Path(md, \"scenario.csv\")).set_index('kper')\n",
    "chdmap = scenmap.CHD.to_dict()\n",
    "\n",
    "# fix up i,j,ks to make zero based\n",
    "# obs.groupby('obgnme').first()\n",
    "# clean up metadata\n",
    "# fill kper etc\n",
    "obs[['kper', 'kstp']] = obs[['kper', 'kstp']].astype('Int32').fillna(0)\n",
    "# fixing issue with dummy obs that made it incompatible\n",
    "obs['idx0'] = obs.idx0.replace('dummy', None)\n",
    "\n",
    "# in this instance safe to fill k,i,j with idx0...\n",
    "obs = obs.fillna({'k': obs.idx0, 'i': obs.idx1, 'j': obs.idx2}).astype(\n",
    "    {c: \"Int32\" for c in ['k', 'i', 'j', 'kstp', 'kper']}).fillna({'k': 0})\n",
    "\n",
    "# need annoying one-based (parfile tables) to zerobased\n",
    "obs.loc[obs.obgnme.str.contains(\"chd|ghb\", na=False), ['k', 'i', 'j']] -= 1\n",
    "obs['slider'] = obs.kper.apply(lambda x: (x, chdmap[int(x)]))\n",
    "# put back on pest object\n",
    "pst.observation_data = obs"
   ],
   "outputs": [],
   "execution_count": null
  },
  {
   "cell_type": "markdown",
   "id": "373b2f7b9d34a6c6",
   "metadata": {},
   "source": [
    "## Build Handler passing `slider` as column to use for slider widget (although not actually used in this e.g.)."
   ]
  },
  {
   "cell_type": "code",
   "id": "914f988728bace3a",
   "metadata": {},
   "source": [
    "vh = ppv.VisHandler(pst, wd=Path(md), tidx='slider')"
   ],
   "outputs": [],
   "execution_count": null
  },
  {
   "cell_type": "markdown",
   "id": "6172262a-ec23-4b12-891f-4b24c05fb519",
   "metadata": {},
   "source": [
    "## Display:"
   ]
  },
  {
   "cell_type": "code",
   "id": "fee0ce87-bf56-4f82-992b-cde93ff9bfb5",
   "metadata": {
    "execution": {
     "iopub.execute_input": "2025-10-23T14:19:35.736659Z",
     "iopub.status.busy": "2025-10-23T14:19:35.736215Z",
     "iopub.status.idle": "2025-10-23T14:19:36.744265Z",
     "shell.execute_reply": "2025-10-23T14:19:36.743973Z",
     "shell.execute_reply.started": "2025-10-23T14:19:35.736624Z"
    }
   },
   "source": [
    "display(vh.default_map_layout)\n",
    "display(vh.default_unmap_layout)"
   ],
   "outputs": [],
   "execution_count": null
  },
  {
   "cell_type": "code",
   "id": "19000a16dd203492",
   "metadata": {},
   "source": [],
   "outputs": [],
   "execution_count": null
  }
 ],
 "metadata": {
  "kernelspec": {
   "display_name": "Python 3 (ipykernel)",
   "language": "python",
   "name": "python3"
  },
  "language_info": {
   "codemirror_mode": {
    "name": "ipython",
    "version": 3
   },
   "file_extension": ".py",
   "mimetype": "text/x-python",
   "name": "python",
   "nbconvert_exporter": "python",
   "pygments_lexer": "ipython3",
   "version": "3.12.6"
  }
 },
 "nbformat": 4,
 "nbformat_minor": 5
}
