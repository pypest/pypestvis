{
 "cells": [
  {
   "cell_type": "code",
   "id": "initial_id",
   "metadata": {
    "execution": {
     "iopub.execute_input": "2025-10-07T20:32:51.257972Z",
     "iopub.status.busy": "2025-10-07T20:32:51.257821Z",
     "iopub.status.idle": "2025-10-07T20:32:51.764871Z",
     "shell.execute_reply": "2025-10-07T20:32:51.764581Z",
     "shell.execute_reply.started": "2025-10-07T20:32:51.257960Z"
    }
   },
   "source": [
    "import pyemu\n",
    "from pathlib import Path\n",
    "import pypestvis as ppv"
   ],
   "outputs": [],
   "execution_count": null
  },
  {
   "cell_type": "code",
   "id": "d0e805ca4275aa7f",
   "metadata": {
    "execution": {
     "iopub.execute_input": "2025-10-07T20:32:51.765391Z",
     "iopub.status.busy": "2025-10-07T20:32:51.765200Z",
     "iopub.status.idle": "2025-10-07T20:32:51.766919Z",
     "shell.execute_reply": "2025-10-07T20:32:51.766682Z",
     "shell.execute_reply.started": "2025-10-07T20:32:51.765382Z"
    }
   },
   "source": [
    "m_d = Path(\"freyberg_ies\")"
   ],
   "outputs": [],
   "execution_count": null
  },
  {
   "cell_type": "markdown",
   "id": "18923aabe5ddee95",
   "metadata": {},
   "source": [
    "## Read in the PEST control file and modify obs to get i,j,k cols"
   ]
  },
  {
   "cell_type": "code",
   "id": "70ae0a215bb5d062",
   "metadata": {
    "execution": {
     "iopub.execute_input": "2025-10-07T20:32:51.767258Z",
     "iopub.status.busy": "2025-10-07T20:32:51.767183Z",
     "iopub.status.idle": "2025-10-07T20:32:52.002322Z",
     "shell.execute_reply": "2025-10-07T20:32:52.002008Z",
     "shell.execute_reply.started": "2025-10-07T20:32:51.767251Z"
    }
   },
   "source": [
    "pst = pyemu.Pst(str(m_d / \"freyberg.pst\"))\n",
    "obs = pst.observation_data\n",
    "obs.loc[obs.oname=='hds', ['k', 'i', 'j']] = obs.loc[obs.oname=='hds'].obgnme.str.rsplit(\"_\",expand=True, n=3)[[1,2,3]].values\n",
    "pst.observation_data = obs"
   ],
   "outputs": [],
   "execution_count": null
  },
  {
   "cell_type": "markdown",
   "id": "1fab3c79de44dfba",
   "metadata": {},
   "source": [
    "## Build a VisHandler from PEST control file and model directory\n",
    "* reads in model spatial information\n",
    "* loads ensembles if available\n",
    "* organises output into mapable and unmapable and builds spatial ref\n",
    "* builds plotly objects and ipywidget callbacks for visualisation"
   ]
  },
  {
   "cell_type": "code",
   "id": "899cc339f72c18b4",
   "metadata": {
    "execution": {
     "iopub.execute_input": "2025-10-07T20:32:52.002693Z",
     "iopub.status.busy": "2025-10-07T20:32:52.002608Z",
     "iopub.status.idle": "2025-10-07T20:32:57.473451Z",
     "shell.execute_reply": "2025-10-07T20:32:57.473144Z",
     "shell.execute_reply.started": "2025-10-07T20:32:52.002684Z"
    }
   },
   "source": [
    "vh = ppv.VisHandler(pst, wd=m_d, crs=\"epsg:32614\")"
   ],
   "outputs": [],
   "execution_count": null
  },
  {
   "cell_type": "code",
   "id": "d770afb6ea6ce4e5",
   "metadata": {
    "execution": {
     "iopub.execute_input": "2025-10-07T20:32:57.473938Z",
     "iopub.status.busy": "2025-10-07T20:32:57.473854Z",
     "iopub.status.idle": "2025-10-07T20:32:57.850178Z",
     "shell.execute_reply": "2025-10-07T20:32:57.849862Z",
     "shell.execute_reply.started": "2025-10-07T20:32:57.473929Z"
    }
   },
   "source": [
    "display(vh.default_map_layout)"
   ],
   "outputs": [],
   "execution_count": null
  },
  {
   "cell_type": "code",
   "id": "9cb84196b491f6b4",
   "metadata": {
    "execution": {
     "iopub.execute_input": "2025-10-07T20:32:57.851836Z",
     "iopub.status.busy": "2025-10-07T20:32:57.851661Z",
     "iopub.status.idle": "2025-10-07T20:32:57.856430Z",
     "shell.execute_reply": "2025-10-07T20:32:57.856110Z",
     "shell.execute_reply.started": "2025-10-07T20:32:57.851827Z"
    }
   },
   "source": [
    "vh.default_unmap_layout"
   ],
   "outputs": [],
   "execution_count": null
  }
 ],
 "metadata": {
  "kernelspec": {
   "display_name": "Python 3 (ipykernel)",
   "language": "python",
   "name": "python3"
  },
  "language_info": {
   "codemirror_mode": {
    "name": "ipython",
    "version": 3
   },
   "file_extension": ".py",
   "mimetype": "text/x-python",
   "name": "python",
   "nbconvert_exporter": "python",
   "pygments_lexer": "ipython3",
   "version": "3.12.6"
  }
 },
 "nbformat": 4,
 "nbformat_minor": 5
}
