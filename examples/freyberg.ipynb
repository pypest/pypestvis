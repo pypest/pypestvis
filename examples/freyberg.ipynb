{
 "cells": [
  {
   "cell_type": "code",
   "id": "initial_id",
   "metadata": {},
   "source": [
    "import pyemu\n",
    "from pathlib import Path\n",
    "import sys\n",
    "import pypestvis as ppv"
   ],
   "outputs": [],
   "execution_count": null
  },
  {
   "cell_type": "code",
   "id": "d0e805ca4275aa7f",
   "metadata": {},
   "source": "m_d = Path(\"freyberg_ies\")",
   "outputs": [],
   "execution_count": null
  },
  {
   "cell_type": "code",
   "id": "70ae0a215bb5d062",
   "metadata": {},
   "source": [
    "pst = pyemu.Pst(str(m_d / \"freyberg.pst\"))\n",
    "obs = pst.observation_data\n",
    "obs.loc[obs.oname=='hds', ['k', 'i', 'j']] = obs.loc[obs.oname=='hds'].obgnme.str.rsplit(\"_\",expand=True, n=3)[[1,2,3]].values\n",
    "pst.observation_data = obs"
   ],
   "outputs": [],
   "execution_count": null
  },
  {
   "cell_type": "code",
   "id": "899cc339f72c18b4",
   "metadata": {},
   "source": "vh = ppv.VisHandler(pst, wd=m_d, crs=\"epsg:32614\")",
   "outputs": [],
   "execution_count": null
  },
  {
   "cell_type": "code",
   "id": "d770afb6ea6ce4e5",
   "metadata": {},
   "source": [
    "display(vh.default_map_layout)"
   ],
   "outputs": [],
   "execution_count": null
  },
  {
   "cell_type": "code",
   "id": "9cb84196b491f6b4",
   "metadata": {},
   "source": [
    "vh.default_unmap_layout"
   ],
   "outputs": [],
   "execution_count": null
  }
 ],
 "metadata": {
  "kernelspec": {
   "display_name": "Python 3 (ipykernel)",
   "language": "python",
   "name": "python3"
  },
  "language_info": {
   "codemirror_mode": {
    "name": "ipython",
    "version": 3
   },
   "file_extension": ".py",
   "mimetype": "text/x-python",
   "name": "python",
   "nbconvert_exporter": "python",
   "pygments_lexer": "ipython3",
   "version": "3.13.5"
  }
 },
 "nbformat": 4,
 "nbformat_minor": 5
}
